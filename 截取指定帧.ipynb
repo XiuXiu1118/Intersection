{
 "cells": [
  {
   "cell_type": "code",
   "execution_count": 5,
   "metadata": {},
   "outputs": [],
   "source": [
    "# 一帧一帧的截取\n",
    "import cv2 as cv\n",
    " \n",
    "\n",
    "# 截图图像\n",
    "def cutVideo():\n",
    "    i = 0\n",
    "    video = cv.VideoCapture('VID_20201030_084612.mp4') # 读取视频文件\n",
    "    while(True):\n",
    "        ret,frame = video.read()\n",
    "        cv.imshow('video',frame)\n",
    "        c = cv.waitKey(50)\n",
    "        if c == 27:\n",
    "            break\n",
    "        i=i+1\n",
    "        if i%16955==0:\n",
    "            cv.imwrite(str(i)+'.png',frame)\n",
    " \n",
    " \n",
    "cutVideo()\n",
    "cv.destroyAllWindows()"
   ]
  },
  {
   "cell_type": "code",
   "execution_count": 11,
   "metadata": {},
   "outputs": [],
   "source": [
    "# 截取制定帧\n",
    "import cv2\n",
    " \n",
    "cap = cv2.VideoCapture('VID_20201030_084612.mp4')  #返回一个capture对象\n",
    "cap.set(cv2.CAP_PROP_POS_FRAMES,100000)  #设置要获取的帧号\n",
    "a,b=cap.read()  #read方法返回一个布尔值和一个视频帧。若帧读取成功，则返回True\n",
    "cv.imwrite(str(100000)+'.png',b)\n",
    "cv.destroyAllWindows()\n",
    "\n"
   ]
  }
 ],
 "metadata": {
  "kernelspec": {
   "display_name": "Python 3",
   "language": "python",
   "name": "python3"
  },
  "language_info": {
   "codemirror_mode": {
    "name": "ipython",
    "version": 3
   },
   "file_extension": ".py",
   "mimetype": "text/x-python",
   "name": "python",
   "nbconvert_exporter": "python",
   "pygments_lexer": "ipython3",
   "version": "3.7.6"
  }
 },
 "nbformat": 4,
 "nbformat_minor": 4
}
